{
 "cells": [
  {
   "cell_type": "code",
   "execution_count": null,
   "id": "d9792e47",
   "metadata": {},
   "outputs": [],
   "source": [
    "import numpy as np\n",
    "import sys\n",
    "sys.path.append('../tools')\n",
    "from utils import get_shaps\n",
    "from utils import classify_noisy_labels, compute_f1_score\n",
    "from scipy.stats import sem\n",
    "import seaborn as sns\n",
    "\n",
    "%load_ext autoreload\n",
    "%autoreload 2"
   ]
  },
  {
   "cell_type": "code",
   "execution_count": null,
   "id": "feae339e",
   "metadata": {},
   "outputs": [],
   "source": [
    "task = 'classification'\n",
    "dataset_name = 'gaussian'\n",
    "num_datapoints = 100"
   ]
  },
  {
   "cell_type": "code",
   "execution_count": null,
   "id": "8365f946",
   "metadata": {},
   "outputs": [],
   "source": [
    "model_name = 'SVC'\n",
    "metric = 'accuracy'\n",
    "seed = 2022\n",
    "num_samples = 100\n",
    "repeat_num = 10"
   ]
  },
  {
   "cell_type": "code",
   "execution_count": null,
   "id": "320b4c7c",
   "metadata": {},
   "outputs": [],
   "source": [
    "num_samples = 20000\n",
    "num_bootstrap = 25\n",
    "xi = 1e-3\n",
    "methods = ['random', 'stratified', 'owen', 'Sobol', 'kernel', 'active-0', 'active-2', 'active-5', 'active-100']"
   ]
  },
  {
   "cell_type": "code",
   "execution_count": null,
   "id": "0838f315",
   "metadata": {},
   "outputs": [],
   "source": [
    "path = '../experiment_data/noisy_label_detection'"
   ]
  },
  {
   "cell_type": "code",
   "execution_count": null,
   "id": "0c78af07",
   "metadata": {},
   "outputs": [],
   "source": [
    "\"\"\"\n",
    "Test out all sampling methods for data shapley\n",
    "\"\"\"\n",
    "\n",
    "res_data_shap = []\n",
    "\n",
    "for method in methods:\n",
    "    all_mcs = np.load(f\"{path}/noisy_label_all_mcs_data_shap_{method}_{dataset_name}_{model_name}_{num_datapoints}_{num_samples}_{num_bootstrap}.npy\", allow_pickle=True)\n",
    "    all_afs = np.load(f\"{path}/noisy_label_all_afs_data_shap_{method}_{dataset_name}_{model_name}_{num_datapoints}_{num_samples}_{num_bootstrap}.npy\", allow_pickle=True)\n",
    "    all_min_afs = np.load(f\"{path}/noisy_label_all_min_afs_data_shap_{method}_{dataset_name}_{model_name}_{num_datapoints}_{num_samples}_{num_bootstrap}.npy\", allow_pickle=True)\n",
    "    flipped_index = np.load(f\"{path}/noisy_label_flipped_index_data_shap_{method}_{dataset_name}_{model_name}_{num_datapoints}_{num_samples}_{num_bootstrap}.npy\", allow_pickle=True)\n",
    "    res_data_shap.append((method, all_mcs, all_afs, all_min_afs, flipped_index))"
   ]
  },
  {
   "cell_type": "code",
   "execution_count": null,
   "id": "70836dc2",
   "metadata": {},
   "outputs": [],
   "source": [
    "for i, item in enumerate(res_data_shap):\n",
    "    method, all_mcs, all_afs, all_min_afs, flipped_index = item\n",
    "    all_min_afs = np.asarray(all_min_afs)\n",
    "    all_min_afs_mean = np.mean(all_min_afs, axis=0)\n",
    "    all_min_afs_sem = sem(all_min_afs,axis=0)\n",
    "    res_data_shap[i] = (method, all_mcs, all_afs, all_min_afs, all_min_afs_mean, all_min_afs_sem, flipped_index)"
   ]
  },
  {
   "cell_type": "code",
   "execution_count": null,
   "id": "af0fd20e",
   "metadata": {},
   "outputs": [],
   "source": [
    "\"\"\"\n",
    "Test out all sampling methods for beta shapley\n",
    "\"\"\"\n",
    "\n",
    "res_beta_shap = []\n",
    "\n",
    "for method in methods:\n",
    "    all_mcs = np.load(f\"{path}/noisy_label_all_mcs_beta_shap_{method}_{dataset_name}_{model_name}_{num_datapoints}_{num_samples}_{num_bootstrap}.npy\", allow_pickle=True)\n",
    "    all_afs = np.load(f\"{path}/noisy_label_all_afs_beta_shap_{method}_{dataset_name}_{model_name}_{num_datapoints}_{num_samples}_{num_bootstrap}.npy\", allow_pickle=True)\n",
    "    all_min_afs = np.load(f\"{path}/noisy_label_all_min_afs_beta_shap_{method}_{dataset_name}_{model_name}_{num_datapoints}_{num_samples}_{num_bootstrap}.npy\", allow_pickle=True)\n",
    "    flipped_index = np.load(f\"{path}/noisy_label_flipped_index_beta_shap_{method}_{dataset_name}_{model_name}_{num_datapoints}_{num_samples}_{num_bootstrap}.npy\", allow_pickle=True)\n",
    "    res_beta_shap.append((method, all_mcs, all_afs, all_min_afs, flipped_index))"
   ]
  },
  {
   "cell_type": "code",
   "execution_count": null,
   "id": "e03118ef",
   "metadata": {},
   "outputs": [],
   "source": [
    "for i, item in enumerate(res_beta_shap):\n",
    "    method, all_mcs, all_afs, all_min_afs, flipped_index = item\n",
    "    all_min_afs = np.asarray(all_min_afs)\n",
    "    all_min_afs_mean = np.mean(all_min_afs, axis=0)\n",
    "    all_min_afs_sem = sem(all_min_afs,axis=0)\n",
    "    res_beta_shap[i] = (method, all_mcs, all_afs, all_min_afs, all_min_afs_mean, all_min_afs_sem, flipped_index)"
   ]
  },
  {
   "cell_type": "code",
   "execution_count": null,
   "id": "cc30efd4",
   "metadata": {},
   "outputs": [],
   "source": [
    "# plotting\n",
    "sys.path.append('../')\n",
    "from vol_utils.utils import set_up_plotting\n",
    "plt = set_up_plotting()"
   ]
  },
  {
   "cell_type": "code",
   "execution_count": null,
   "id": "62a207f2",
   "metadata": {},
   "outputs": [],
   "source": [
    "metric = 'data'\n",
    "\n",
    "res_shap = res_data_shap if metric == 'data' else res_beta_shap\n",
    "\n",
    "scores = [[] for _ in range(len(res_shap))]\n",
    "for i in range(repeat_num):\n",
    "    for j, (method, all_mcs, _, _, _, _, flipped_index) in enumerate(res_shap):\n",
    "        shap = np.asarray(get_shaps(all_mcs[i]))\n",
    "        index = classify_noisy_labels(shap)\n",
    "        score = compute_f1_score(flipped_index, index)[2]\n",
    "        scores[j].append(score)"
   ]
  },
  {
   "cell_type": "code",
   "execution_count": null,
   "id": "c270366f",
   "metadata": {},
   "outputs": [],
   "source": [
    "scores = np.asarray(scores)\n",
    "scores.shape"
   ]
  },
  {
   "cell_type": "code",
   "execution_count": null,
   "id": "dd0e4328",
   "metadata": {},
   "outputs": [],
   "source": [
    "# remove kernelSHAP\n",
    "no_kernel_scores = scores[[0,1,2,3,5,6,7,8]]"
   ]
  },
  {
   "cell_type": "code",
   "execution_count": null,
   "id": "c9a8e9fd",
   "metadata": {},
   "outputs": [],
   "source": [
    "no_kernel = True\n",
    "plot_scores = no_kernel_scores if no_kernel else scores\n",
    "\n",
    "plt.figure(figsize=(8, 6))\n",
    "sns.set_style(style='white')\n",
    "palette = ['C0', 'C1', 'C2', 'C3', 'C4', 'C5', 'C6', 'C7', 'C8']\n",
    "if no_kernel:\n",
    "    palette.remove('C4')\n",
    "sns.boxplot(data=plot_scores.T, showfliers=False, palette=palette)\n",
    "xlabels = ['MC', 'stratified', 'Owen', 'Sobol', 'kernel', r'Ours ($\\alpha$ = 0)', r'Ours ($\\alpha$ = 2)', r'Ours ($\\alpha$ = 5)', r'Ours ($\\alpha$ = 100)']\n",
    "if no_kernel:\n",
    "    xlabels.remove('kernel')\n",
    "plt.xticks(range(len(xlabels)), xlabels, rotation=-90)\n",
    "plt.ylabel(\"F1 Score\")\n",
    "plt.savefig(\"../figs/f1_score_{}_shap_{}_{}.pdf\".format(metric, dataset_name, model_name), format='pdf', dpi=300, bbox_inches='tight')"
   ]
  },
  {
   "cell_type": "code",
   "execution_count": null,
   "id": "93deb29c",
   "metadata": {},
   "outputs": [],
   "source": [
    "# compute median and iqr of kernelSHAP\n",
    "kernel_scores = scores[methods.index('kernel')]\n",
    "np.median(kernel_scores), np.percentile(kernel_scores, 25), np.percentile(kernel_scores, 75)"
   ]
  },
  {
   "cell_type": "code",
   "execution_count": null,
   "id": "b4139d9b",
   "metadata": {},
   "outputs": [],
   "source": []
  }
 ],
 "metadata": {
  "kernelspec": {
   "display_name": "Python 3",
   "language": "python",
   "name": "python3"
  },
  "language_info": {
   "codemirror_mode": {
    "name": "ipython",
    "version": 3
   },
   "file_extension": ".py",
   "mimetype": "text/x-python",
   "name": "python",
   "nbconvert_exporter": "python",
   "pygments_lexer": "ipython3",
   "version": "3.9.6"
  },
  "vscode": {
   "interpreter": {
    "hash": "31f2aee4e71d21fbe5cf8b01ff0e069b9275f58929596ceb00d14d90e3e16cd6"
   }
  }
 },
 "nbformat": 4,
 "nbformat_minor": 5
}
