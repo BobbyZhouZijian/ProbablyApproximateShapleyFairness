{
 "cells": [
  {
   "cell_type": "code",
   "execution_count": null,
   "metadata": {},
   "outputs": [],
   "source": [
    "import numpy as np\n",
    "import sys\n",
    "sys.path.append('../tools')\n",
    "from utils import get_shaps\n",
    "from scipy.stats import sem\n",
    "import seaborn as sns\n",
    "\n",
    "%load_ext autoreload\n",
    "%autoreload 2"
   ]
  },
  {
   "cell_type": "code",
   "execution_count": null,
   "metadata": {},
   "outputs": [],
   "source": [
    "task = 'classification'\n",
    "dataset_name = 'breast_cancer'\n",
    "num_datapoints = 20\n",
    "dargs = {'n_data_to_be_valued': num_datapoints+2, 'n_val': 100, 'n_test': 1000, 'seed': 2020}"
   ]
  },
  {
   "cell_type": "code",
   "execution_count": null,
   "metadata": {},
   "outputs": [],
   "source": [
    "model_name = 'SVC'\n",
    "metric = 'accuracy'\n",
    "seed = 2022\n",
    "repeat_num = 10\n",
    "num_samples = 300"
   ]
  },
  {
   "cell_type": "code",
   "execution_count": null,
   "metadata": {},
   "outputs": [],
   "source": [
    "path = '../experiment_data/nullity'\n",
    "methods = ['random', 'stratified', 'owen', 'Sobol', 'kernel', 'active-0', 'active-2', 'active-5', 'active-100']\n",
    "true_mcs = np.load(f\"{path}/nullity_exact_{dataset_name}_{model_name}_{num_samples}.npy\", allow_pickle=True)\n",
    "est_mcs_list = []\n",
    "for method in methods:\n",
    "    est_mcs = np.load(f\"{path}/nullity_mcs_{method}_{dataset_name}_{model_name}_{num_samples}.npy\", allow_pickle=True)\n",
    "    all_afs = np.load(f\"{path}/nullity_afs_{method}_{dataset_name}_{model_name}_{num_samples}.npy\", allow_pickle=True)\n",
    "    est_mcs_list.append((method, est_mcs, all_afs))"
   ]
  },
  {
   "cell_type": "code",
   "execution_count": null,
   "metadata": {},
   "outputs": [],
   "source": [
    "# compute exact Shapley values\n",
    "true_shaps = np.asarray([np.asarray(get_shaps(true_mc)) for true_mc in true_mcs])\n",
    "true_shaps = true_shaps.mean(axis=0)\n",
    "true_shaps /= sum(true_shaps) # standardize shapley values\n",
    "print(true_shaps)"
   ]
  },
  {
   "cell_type": "code",
   "execution_count": null,
   "metadata": {},
   "outputs": [],
   "source": [
    "# find least absolute idx\n",
    "idx = abs(true_shaps) < 1e-2\n",
    "print(true_shaps[idx])"
   ]
  },
  {
   "cell_type": "code",
   "execution_count": null,
   "metadata": {},
   "outputs": [],
   "source": [
    "all_errors = np.zeros((len(est_mcs_list), len(est_mcs_list[0][1])))\n",
    "for i, (method, est_mcs, _) in enumerate(est_mcs_list):\n",
    "    n = len(est_mcs)\n",
    "    errors = all_errors[i]\n",
    "    for i, est_mc in enumerate(est_mcs):\n",
    "        shaps = np.asarray(get_shaps(est_mc))\n",
    "        shaps = shaps / sum(shaps) # standardize shapley value (estimated)\n",
    "        errors[i] = abs(shaps[idx] - true_shaps[idx]).sum()\n",
    "    print(f\"evaluated {method} => deviation: {np.mean(errors)} \\pm {sem(errors)}\")"
   ]
  },
  {
   "cell_type": "code",
   "execution_count": null,
   "metadata": {},
   "outputs": [],
   "source": [
    "sys.path.append('../')\n",
    "from vol_utils.utils import set_up_plotting\n",
    "plt = set_up_plotting()"
   ]
  },
  {
   "cell_type": "code",
   "execution_count": null,
   "metadata": {},
   "outputs": [],
   "source": [
    "# exclude KernelSHAP\n",
    "idx = [i for i in range(len(methods)) if i != methods.index('kernel')]\n",
    "all_errors_rest = all_errors[idx]"
   ]
  },
  {
   "cell_type": "code",
   "execution_count": null,
   "metadata": {},
   "outputs": [],
   "source": [
    "plt.figure(figsize=(8,6))\n",
    "sns.set_style(style='white')\n",
    "sns.boxplot(data=all_errors_rest.T, showfliers=False,palette=['C0', 'C1', 'C2', 'C3', 'C5', 'C6', 'C7'])\n",
    "# sns.pointplot(data=all_errors_rest.T, dodge=True, join=False, ci='sd', palette=['C0', 'C1', 'C2', 'C3', 'C5'])\n",
    "xlabels=['MC', 'strat.', 'Owen', 'Sobol', r'$\\alpha=0$', r'$\\alpha=2$', r'$\\alpha=5$', r'$\\alpha=100$']\n",
    "plt.xticks([0,1,2,3,4,5,6,7], xlabels, rotation=30)\n",
    "plt.ylabel(\"Error\")\n",
    "plt.xlabel(\"   \")\n",
    "plt.savefig(f\"../figs/nullity_{dataset_name}_{model_name}_{num_datapoints}.pdf\", format=\"pdf\", dpi=300, bbox_inches='tight')"
   ]
  },
  {
   "cell_type": "markdown",
   "metadata": {},
   "source": [
    "### Pigou Dalton Principle"
   ]
  },
  {
   "cell_type": "code",
   "execution_count": null,
   "metadata": {},
   "outputs": [],
   "source": [
    "# all_afs\n",
    "afs_methods = []\n",
    "for method, all_mcs, all_afs_list in est_mcs_list:\n",
    "    all_afs = all_afs_list[0]\n",
    "    afs_methods.append((method, all_afs))"
   ]
  },
  {
   "cell_type": "code",
   "execution_count": null,
   "metadata": {},
   "outputs": [],
   "source": [
    "def log_nash_social_welfare(fs_list):\n",
    "    fs_list = fs_list / sum(fs_list) * len(fs_list)\n",
    "    return -sum(np.log(fs_list))"
   ]
  },
  {
   "cell_type": "code",
   "execution_count": null,
   "metadata": {},
   "outputs": [],
   "source": [
    "# compute log nash social welfare\n",
    "for method, all_mcs, all_afs_list in est_mcs_list:\n",
    "    log_nsw = np.asarray([log_nash_social_welfare(all_afs) for all_afs in all_afs_list])\n",
    "    print(\"%s, %.3f (%.3f)\" % (method, log_nsw.mean(), sem(log_nsw)))"
   ]
  },
  {
   "cell_type": "code",
   "execution_count": null,
   "metadata": {},
   "outputs": [],
   "source": []
  },
  {
   "cell_type": "code",
   "execution_count": null,
   "metadata": {},
   "outputs": [],
   "source": []
  }
 ],
 "metadata": {
  "kernelspec": {
   "display_name": "Python 3",
   "language": "python",
   "name": "python3"
  },
  "language_info": {
   "codemirror_mode": {
    "name": "ipython",
    "version": 3
   },
   "file_extension": ".py",
   "mimetype": "text/x-python",
   "name": "python",
   "nbconvert_exporter": "python",
   "pygments_lexer": "ipython3",
   "version": "3.9.6"
  },
  "orig_nbformat": 4,
  "vscode": {
   "interpreter": {
    "hash": "31f2aee4e71d21fbe5cf8b01ff0e069b9275f58929596ceb00d14d90e3e16cd6"
   }
  }
 },
 "nbformat": 4,
 "nbformat_minor": 2
}
