{
 "cells": [
  {
   "cell_type": "code",
   "execution_count": null,
   "id": "d9792e47",
   "metadata": {
    "execution": {
     "iopub.execute_input": "2022-05-11T11:18:09.500207Z",
     "iopub.status.busy": "2022-05-11T11:18:09.499707Z",
     "iopub.status.idle": "2022-05-11T11:18:12.308479Z",
     "shell.execute_reply": "2022-05-11T11:18:12.307514Z"
    }
   },
   "outputs": [],
   "source": [
    "import numpy as np\n",
    "import sys\n",
    "sys.path.append('../tools')\n",
    "from utils import get_shaps\n",
    "from scipy.stats import sem\n",
    "\n",
    "%load_ext autoreload\n",
    "%autoreload 2"
   ]
  },
  {
   "cell_type": "code",
   "execution_count": null,
   "id": "feae339e",
   "metadata": {
    "execution": {
     "iopub.execute_input": "2022-05-11T11:18:12.313991Z",
     "iopub.status.busy": "2022-05-11T11:18:12.313597Z",
     "iopub.status.idle": "2022-05-11T11:18:12.339986Z",
     "shell.execute_reply": "2022-05-11T11:18:12.339197Z"
    }
   },
   "outputs": [],
   "source": [
    "task = 'classification'\n",
    "dataset_name = 'gaussian'\n",
    "num_datapoints = 50"
   ]
  },
  {
   "cell_type": "code",
   "execution_count": null,
   "id": "8365f946",
   "metadata": {
    "execution": {
     "iopub.execute_input": "2022-05-11T11:18:47.749541Z",
     "iopub.status.busy": "2022-05-11T11:18:47.749215Z",
     "iopub.status.idle": "2022-05-11T11:18:47.774896Z",
     "shell.execute_reply": "2022-05-11T11:18:47.774173Z"
    }
   },
   "outputs": [],
   "source": [
    "model_name = 'logistic'\n",
    "metric = 'accuracy'\n",
    "seed = 2022\n",
    "repeat_num = 10"
   ]
  },
  {
   "cell_type": "code",
   "execution_count": null,
   "id": "320b4c7c",
   "metadata": {
    "execution": {
     "iopub.execute_input": "2022-05-11T11:18:47.818883Z",
     "iopub.status.busy": "2022-05-11T11:18:47.818535Z",
     "iopub.status.idle": "2022-05-11T11:18:47.850114Z",
     "shell.execute_reply": "2022-05-11T11:18:47.849130Z"
    }
   },
   "outputs": [],
   "source": [
    "num_samples = 2000\n",
    "num_bootstrap = 20\n",
    "xi = 1e-3\n",
    "methods = ['random', 'stratified', 'owen', 'Sobol', 'kernel', 'active-0', 'active-2', 'active-5', 'active-100']"
   ]
  },
  {
   "cell_type": "code",
   "execution_count": null,
   "id": "0c78af07",
   "metadata": {
    "execution": {
     "iopub.execute_input": "2022-05-11T11:18:47.854648Z",
     "iopub.status.busy": "2022-05-11T11:18:47.854284Z",
     "iopub.status.idle": "2022-05-11T11:18:47.885280Z",
     "shell.execute_reply": "2022-05-11T11:18:47.884281Z"
    }
   },
   "outputs": [],
   "source": [
    "path = '../experiment_data/symmetry' # use the same exp results as symmetry for simplicity"
   ]
  },
  {
   "cell_type": "code",
   "execution_count": null,
   "id": "e3c3b612",
   "metadata": {
    "execution": {
     "iopub.execute_input": "2022-05-11T11:18:47.890831Z",
     "iopub.status.busy": "2022-05-11T11:18:47.890478Z",
     "iopub.status.idle": "2022-05-11T11:18:55.536385Z",
     "shell.execute_reply": "2022-05-11T11:18:55.534479Z"
    }
   },
   "outputs": [],
   "source": [
    "\"\"\"\n",
    "Test out all sampling methods for data shapley\n",
    "\"\"\"\n",
    "\n",
    "res_data_shap = []\n",
    "\n",
    "for method in methods:\n",
    "    all_mcs = np.load(f\"{path}/small_all_mcs_data_shap_{method}_{dataset_name}_{model_name}_{num_datapoints}_{num_samples}_{num_bootstrap}.npy\", allow_pickle=True)\n",
    "    all_afs = np.load(f\"{path}/small_all_afs_data_shap_{method}_{dataset_name}_{model_name}_{num_datapoints}_{num_samples}_{num_bootstrap}.npy\", allow_pickle=True)\n",
    "    all_min_afs = np.load(f\"{path}/small_all_min_afs_data_shap_{method}_{dataset_name}_{model_name}_{num_datapoints}_{num_samples}_{num_bootstrap}.npy\", allow_pickle=True)\n",
    "    res_data_shap.append((method, all_mcs, all_afs, all_min_afs))"
   ]
  },
  {
   "cell_type": "code",
   "execution_count": null,
   "id": "06542232",
   "metadata": {
    "execution": {
     "iopub.execute_input": "2022-05-11T11:18:55.541971Z",
     "iopub.status.busy": "2022-05-11T11:18:55.541430Z",
     "iopub.status.idle": "2022-05-11T11:18:55.680679Z",
     "shell.execute_reply": "2022-05-11T11:18:55.679910Z"
    }
   },
   "outputs": [],
   "source": [
    "for i, item in enumerate(res_data_shap):\n",
    "    method, all_mcs, all_afs, all_min_afs = item\n",
    "    all_min_afs = np.asarray(all_min_afs)\n",
    "    all_min_afs_mean = np.mean(all_min_afs, axis=0)\n",
    "    all_min_afs_sem = sem(all_min_afs,axis=0)\n",
    "    res_data_shap[i] = (method, all_mcs, all_afs, all_min_afs, all_min_afs_mean, all_min_afs_sem)"
   ]
  },
  {
   "cell_type": "code",
   "execution_count": null,
   "id": "0f590334",
   "metadata": {
    "execution": {
     "iopub.execute_input": "2022-05-11T11:18:55.686930Z",
     "iopub.status.busy": "2022-05-11T11:18:55.684957Z",
     "iopub.status.idle": "2022-05-11T11:19:01.669159Z",
     "shell.execute_reply": "2022-05-11T11:19:01.667415Z"
    }
   },
   "outputs": [],
   "source": [
    "\"\"\"\n",
    "Test out all sampling methods for beta shapley\n",
    "\"\"\"\n",
    "res_beta_shap = []\n",
    "\n",
    "for method in methods:\n",
    "    all_mcs = np.load(f\"{path}/small_all_mcs_beta_shap_{method}_{dataset_name}_{model_name}_{num_datapoints}_{num_samples}_{num_bootstrap}.npy\", allow_pickle=True)\n",
    "    all_afs = np.load(f\"{path}/small_all_afs_beta_shap_{method}_{dataset_name}_{model_name}_{num_datapoints}_{num_samples}_{num_bootstrap}.npy\", allow_pickle=True)\n",
    "    all_min_afs = np.load(f\"{path}/small_all_min_afs_beta_shap_{method}_{dataset_name}_{model_name}_{num_datapoints}_{num_samples}_{num_bootstrap}.npy\", allow_pickle=True)\n",
    "    res_beta_shap.append((method, all_mcs, all_afs, all_min_afs))"
   ]
  },
  {
   "cell_type": "code",
   "execution_count": null,
   "id": "bd0c69e1",
   "metadata": {
    "execution": {
     "iopub.execute_input": "2022-05-11T11:19:01.677441Z",
     "iopub.status.busy": "2022-05-11T11:19:01.677061Z",
     "iopub.status.idle": "2022-05-11T11:19:01.885875Z",
     "shell.execute_reply": "2022-05-11T11:19:01.884800Z"
    }
   },
   "outputs": [],
   "source": [
    "for i, item in enumerate(res_beta_shap):\n",
    "    method, all_mcs, all_afs, all_min_afs = item\n",
    "    all_min_afs = np.asarray(all_min_afs)\n",
    "    all_min_afs_mean = np.mean(all_min_afs, axis=0)\n",
    "    all_min_afs_std = np.std(all_min_afs, axis=0)\n",
    "    all_min_afs_sem = sem(all_min_afs, axis=0)\n",
    "    res_beta_shap[i] = (method, all_mcs, all_afs, all_min_afs, all_min_afs_mean, all_min_afs_sem)"
   ]
  },
  {
   "cell_type": "markdown",
   "id": "0fdbdb36",
   "metadata": {},
   "source": [
    "### Point Removal and Point Addition Experiment"
   ]
  },
  {
   "cell_type": "code",
   "execution_count": null,
   "id": "a7b25492",
   "metadata": {
    "execution": {
     "iopub.execute_input": "2022-05-11T11:19:01.890765Z",
     "iopub.status.busy": "2022-05-11T11:19:01.890385Z",
     "iopub.status.idle": "2022-05-11T11:19:01.935800Z",
     "shell.execute_reply": "2022-05-11T11:19:01.934816Z"
    }
   },
   "outputs": [],
   "source": [
    "sys.path.append('../')\n",
    "from vol_utils.utils import set_up_plotting\n",
    "plt = set_up_plotting()"
   ]
  },
  {
   "cell_type": "code",
   "execution_count": null,
   "id": "9232aac0",
   "metadata": {
    "execution": {
     "iopub.execute_input": "2022-05-11T11:19:01.943676Z",
     "iopub.status.busy": "2022-05-11T11:19:01.943147Z",
     "iopub.status.idle": "2022-05-11T11:24:23.246643Z",
     "shell.execute_reply": "2022-05-11T11:24:23.245473Z"
    }
   },
   "outputs": [],
   "source": [
    "for metric in ['data', 'beta']:\n",
    "    for value_low in [True, False]:\n",
    "        for addition in [True, False]:\n",
    "            res_shap = res_data_shap if metric == 'data' else res_beta_shap\n",
    "            vals_all = [[] for _ in range(len(res_shap))]\n",
    "\n",
    "            for i in range(repeat_num):\n",
    "                for k, (method, all_mcs, _, _, _, _) in enumerate(res_shap):\n",
    "                    shaps = np.asarray(get_shaps(all_mcs[i]))\n",
    "                    idx = np.argsort(shaps)\n",
    "                    vals = []\n",
    "\n",
    "                    iterator = range(1, 51) if addition else range(1, 91)\n",
    "                    for j in iterator:\n",
    "                        n = len(idx)\n",
    "                        if value_low and addition:\n",
    "                            truncated_idx = idx[:j]\n",
    "                        elif not value_low and addition:\n",
    "                            truncated_idx = idx[n-j:]\n",
    "                        elif not value_low and not addition:\n",
    "                            truncated_idx = idx[:n-j]\n",
    "                        else:\n",
    "                            truncated_idx = idx[j:]\n",
    "                        try:\n",
    "                            X_trunc = np.concatenate([X[truncated_idx], X_init])\n",
    "                            y_trunc = np.concatenate([y[truncated_idx], y_init])\n",
    "                            runner.model.fit(X_trunc, y_trunc)\n",
    "                            val = runner.value()\n",
    "                        except Exception as e:\n",
    "                            print(e)\n",
    "                            continue\n",
    "                        vals.append(val)\n",
    "                    vals_all[k].append(vals)\n",
    "            vals_all = np.asarray(vals_all)\n",
    "            plt.figure(figsize=(8,6))\n",
    "            for i in range(len(res_data_shap)):\n",
    "                vals = vals_all[i]\n",
    "                vals_mean = np.mean(vals, axis=0)\n",
    "                vals_sem = sem(vals, axis=0)\n",
    "                method = methods[i]\n",
    "                if method == 'random':\n",
    "                    method = 'MC'\n",
    "                if method == 'owen':\n",
    "                    method = 'Owen'\n",
    "                if method.startswith('active'):\n",
    "                    alpha = int(method.split('-')[-1])\n",
    "                    method = rf'Ours ($\\alpha$ = {alpha})'\n",
    "                plt.plot(vals_mean, color=f'C{i}', label=method)\n",
    "                plt.fill_between(np.arange(len(vals_mean)), vals_mean - vals_sem, vals_mean + vals_sem, color=f'C{i}', alpha=0.3)\n",
    "            if not addition:\n",
    "                plt.xticks([0,9,19,29,39,49,59,69,79,89], [1,10,20,30,40,50,60,70,80,90])\n",
    "            else:\n",
    "                plt.xticks([0,4,9,14,19,24,29,34,39,44,49], [1,5,10,15,20,25,30,35,40,45,50])\n",
    "            if addition:\n",
    "                pass\n",
    "                # plt.legend(loc = 'lower right', fontsize=22)\n",
    "            else:\n",
    "                pass\n",
    "                # plt.legend(loc = 'upper left', fontsize=20)\n",
    "            plt.ylabel(\"Accuracy\")\n",
    "            plt.xlabel(\"Number of {} Value Data {}\".format(\"Low\" if value_low else \"High\", \"Added\" if addition else \"Removed\"))\n",
    "            plt.savefig(\"../figs/point_{}_{}_{}_shap_{}_{}_{}_no_legend.pdf\".format(\n",
    "                            \"addition\" if addition else \"removal\", \"low\" if value_low else \"high\", metric, dataset_name, model_name, num_datapoints\n",
    "                            ), format='pdf', dpi=300, bbox_inches='tight')"
   ]
  },
  {
   "cell_type": "code",
   "execution_count": null,
   "id": "9f13e74c",
   "metadata": {},
   "outputs": [],
   "source": []
  }
 ],
 "metadata": {
  "kernelspec": {
   "display_name": "Python 3",
   "language": "python",
   "name": "python3"
  },
  "language_info": {
   "codemirror_mode": {
    "name": "ipython",
    "version": 3
   },
   "file_extension": ".py",
   "mimetype": "text/x-python",
   "name": "python",
   "nbconvert_exporter": "python",
   "pygments_lexer": "ipython3",
   "version": "3.9.6"
  },
  "vscode": {
   "interpreter": {
    "hash": "31f2aee4e71d21fbe5cf8b01ff0e069b9275f58929596ceb00d14d90e3e16cd6"
   }
  }
 },
 "nbformat": 4,
 "nbformat_minor": 5
}
