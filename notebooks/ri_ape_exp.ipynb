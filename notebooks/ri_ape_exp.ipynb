{
 "cells": [
  {
   "cell_type": "code",
   "execution_count": null,
   "metadata": {},
   "outputs": [],
   "source": [
    "import numpy as np\n",
    "\n",
    "import sys\n",
    "sys.path.append('../tools')\n",
    "from utils import get_shaps\n",
    "from scipy.stats import spearmanr, pearsonr, sem\n",
    "from scipy import spatial\n",
    "\n",
    "%load_ext autoreload\n",
    "%autoreload 2"
   ]
  },
  {
   "cell_type": "code",
   "execution_count": null,
   "metadata": {},
   "outputs": [],
   "source": [
    "task = 'classification'\n",
    "dataset_name = 'covertype'\n",
    "num_datapoints = 50"
   ]
  },
  {
   "cell_type": "code",
   "execution_count": null,
   "metadata": {},
   "outputs": [],
   "source": [
    "model_name = 'logistic'\n",
    "metric = 'accuracy'\n",
    "seed = 2022\n",
    "repeat_num = 20"
   ]
  },
  {
   "cell_type": "code",
   "execution_count": null,
   "metadata": {},
   "outputs": [],
   "source": [
    "num_samples = 50\n",
    "num_samples_true = 500\n",
    "xi = 1e-3"
   ]
  },
  {
   "cell_type": "code",
   "execution_count": null,
   "metadata": {},
   "outputs": [],
   "source": [
    "path = '../experiment_data/ri_ape'\n",
    "method = 'random'\n",
    "\n",
    "true_mcs_list = np.load(f\"{path}/ri_ape_est_{dataset_name}_{model_name}_{num_samples_true}.npy\", allow_pickle=True)\n",
    "est_mcs_list = np.load(f\"{path}/ri_ape_est_{dataset_name}_{model_name}_{num_samples}.npy\", allow_pickle=True)"
   ]
  },
  {
   "cell_type": "code",
   "execution_count": null,
   "metadata": {},
   "outputs": [],
   "source": [
    "true_shaps = np.zeros(num_datapoints)\n",
    "for true_mcs in true_mcs_list:\n",
    "    shaps = np.asarray(get_shaps(true_mcs))\n",
    "    true_shaps += shaps / repeat_num\n",
    "print(true_shaps)"
   ]
  },
  {
   "cell_type": "code",
   "execution_count": null,
   "metadata": {},
   "outputs": [],
   "source": [
    "\"\"\"\n",
    "Quantify the relationship using Spearman Rank Coefficient\n",
    "\"\"\"\n",
    "\n",
    "spear_coeffs = []\n",
    "pearson_coeffs = []\n",
    "cos_sim = []\n",
    "\n",
    "all_r = []\n",
    "all_inv_ape = []\n",
    "all_inv_mse = []\n",
    "\n",
    "for est_mcs in est_mcs_list:\n",
    "    est_shaps = get_shaps(est_mcs)\n",
    "    # absolute percentage error (not mean)\n",
    "    ape = abs((abs(est_shaps - true_shaps) + 1e-5) / (true_shaps + 1e-5))\n",
    "    ape = ape ** 0.5\n",
    "    mse = (est_shaps - true_shaps)**2\n",
    "    r = []\n",
    "    for i in range(len(true_shaps)):\n",
    "        mc_i = np.asarray([item[0] for item in est_mcs[i]])\n",
    "        s2 = np.var(mc_i, ddof=1) + 1e-5\n",
    "        mu = true_shaps[i]\n",
    "        r.append((abs(mu)+xi)**2/s2)\n",
    "    \n",
    "    metric = ape\n",
    "    r = np.asarray(r)\n",
    "    r *= len(est_mcs[0])\n",
    "\n",
    "    spear_coeffs.append(spearmanr(r, 1/metric).correlation)\n",
    "    pearson_coeffs.append(pearsonr(r, 1/metric)[0])\n",
    "    cos_sim.append(1 - spatial.distance.cosine(r, 1/metric))\n",
    "\n",
    "    all_r.append(r)\n",
    "    all_inv_ape.append(1/ape)\n",
    "    all_inv_mse.append(1/mse)"
   ]
  },
  {
   "cell_type": "code",
   "execution_count": null,
   "metadata": {},
   "outputs": [],
   "source": [
    "spear_coeffs = np.asarray(spear_coeffs)\n",
    "print(\"%.3f \\pm %.3f\" % (spear_coeffs.mean(), sem(spear_coeffs)))"
   ]
  },
  {
   "cell_type": "code",
   "execution_count": null,
   "metadata": {},
   "outputs": [],
   "source": [
    "pearson_coeffs = np.asarray(pearson_coeffs)\n",
    "print(\"%.3f \\pm %.3f\" % (pearson_coeffs.mean(), sem(pearson_coeffs)))"
   ]
  },
  {
   "cell_type": "code",
   "execution_count": null,
   "metadata": {},
   "outputs": [],
   "source": [
    "cos_sim = np.asarray(cos_sim)\n",
    "print(\"%.3f \\pm %.3f\" % (cos_sim.mean(), sem(cos_sim)))"
   ]
  },
  {
   "cell_type": "code",
   "execution_count": null,
   "metadata": {},
   "outputs": [],
   "source": [
    "linestyles = ['solid', 'dashed', 'dotted', 'dashdot', (0, (1, 1)), (0, (1, 5))]"
   ]
  },
  {
   "cell_type": "code",
   "execution_count": null,
   "metadata": {},
   "outputs": [],
   "source": [
    "all_r = np.asarray(all_r)\n",
    "r_means = all_r.mean(axis=0)\n",
    "r_se = sem(all_r, axis=0)\n",
    "\n",
    "all_inv_metric = all_inv_ape\n",
    "\n",
    "all_inv_metric = np.asarray(all_inv_metric)\n",
    "inv_metric_means = all_inv_metric.mean(axis=0)\n",
    "inv_metric_se = sem(all_inv_metric, axis=0)\n",
    "\n",
    "indicies = np.argsort(inv_metric_means)\n",
    "\n",
    "r_means = r_means[indicies]\n",
    "r_se = r_se[indicies]\n",
    "inv_metric_means = inv_metric_means[indicies]\n",
    "inv_metric_se = inv_metric_se[indicies]\n",
    "\n",
    "sys.path.append('../')\n",
    "from vol_utils.utils import set_up_plotting\n",
    "plt = set_up_plotting()\n",
    "fig, ax1 = plt.subplots(figsize=(8,6))\n",
    "\n",
    "ln1 = ax1.plot(r_means, label=r'$f_i$($\\xi$ = 1e-3)', c='C0', linestyle=linestyles[0])\n",
    "ax1.fill_between(np.arange(len(r_means)), r_means-r_se, r_means+r_se, alpha=0.3, color='C0')\n",
    "ax1.set_xlabel(\"Training Example Index\")\n",
    "ax1.set_ylabel(r'$f_i$')\n",
    "ax1.set_xticks([i for i in range(len(r_means))])\n",
    "xticks = [0, 9, 19, 29, 39, 49]\n",
    "ax1.set_xticks(xticks)\n",
    "ax1.set_xticklabels([i+1 for i in xticks])\n",
    "ax2 = ax1.twinx()\n",
    "\n",
    "ln2 = ax2.plot(inv_metric_means, label=r'$\\sqrt{1/APE}$', c='C1', linestyle=linestyles[1])\n",
    "ax2.fill_between(np.arange(len(inv_metric_means)), inv_metric_means-inv_metric_se, inv_metric_means+inv_metric_se, alpha=0.3, color='C1')\n",
    "ax2.set_ylabel(r'$\\sqrt{1/APE}$')\n",
    "ax1.legend(handles=ln1 + ln2)\n",
    "fig.savefig(f\"../figs/ri_ape_{dataset_name}_{model_name}.pdf\", format='pdf', dpi=300, bbox_inches='tight')"
   ]
  },
  {
   "cell_type": "code",
   "execution_count": null,
   "metadata": {},
   "outputs": [],
   "source": []
  },
  {
   "cell_type": "code",
   "execution_count": null,
   "metadata": {},
   "outputs": [],
   "source": []
  }
 ],
 "metadata": {
  "kernelspec": {
   "display_name": "Python 3",
   "language": "python",
   "name": "python3"
  },
  "language_info": {
   "codemirror_mode": {
    "name": "ipython",
    "version": 3
   },
   "file_extension": ".py",
   "mimetype": "text/x-python",
   "name": "python",
   "nbconvert_exporter": "python",
   "pygments_lexer": "ipython3",
   "version": "3.9.6"
  },
  "vscode": {
   "interpreter": {
    "hash": "31f2aee4e71d21fbe5cf8b01ff0e069b9275f58929596ceb00d14d90e3e16cd6"
   }
  }
 },
 "nbformat": 4,
 "nbformat_minor": 2
}
