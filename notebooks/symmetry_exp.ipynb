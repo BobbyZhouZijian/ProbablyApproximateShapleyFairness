{
 "cells": [
  {
   "cell_type": "code",
   "execution_count": null,
   "id": "11f349e5",
   "metadata": {
    "execution": {
     "iopub.execute_input": "2022-04-28T09:18:18.503263Z",
     "iopub.status.busy": "2022-04-28T09:18:18.502756Z",
     "iopub.status.idle": "2022-04-28T09:18:21.704312Z",
     "shell.execute_reply": "2022-04-28T09:18:21.703086Z"
    }
   },
   "outputs": [],
   "source": [
    "import numpy as np\n",
    "from scipy.stats import sem\n",
    "import sys\n",
    "sys.path.append('../tools')\n",
    "from utils import get_shaps\n",
    "import seaborn as sns\n",
    "\n",
    "%load_ext autoreload\n",
    "%autoreload 2"
   ]
  },
  {
   "cell_type": "code",
   "execution_count": null,
   "id": "31682e93",
   "metadata": {
    "execution": {
     "iopub.execute_input": "2022-04-28T09:18:21.817482Z",
     "iopub.status.busy": "2022-04-28T09:18:21.816751Z",
     "iopub.status.idle": "2022-04-28T09:18:21.875965Z",
     "shell.execute_reply": "2022-04-28T09:18:21.875033Z"
    }
   },
   "outputs": [],
   "source": [
    "task = 'classification'\n",
    "dataset_name = 'gaussian'\n",
    "num_datapoints = 50"
   ]
  },
  {
   "cell_type": "code",
   "execution_count": null,
   "id": "512eed57",
   "metadata": {
    "execution": {
     "iopub.execute_input": "2022-04-28T09:18:26.515631Z",
     "iopub.status.busy": "2022-04-28T09:18:26.513209Z",
     "iopub.status.idle": "2022-04-28T09:18:26.592683Z",
     "shell.execute_reply": "2022-04-28T09:18:26.591853Z"
    }
   },
   "outputs": [],
   "source": [
    "model_name = 'logistic'\n",
    "metric = 'accuracy'\n",
    "seed = 2022\n",
    "repeat_num = 10"
   ]
  },
  {
   "cell_type": "code",
   "execution_count": null,
   "id": "734f4466",
   "metadata": {
    "execution": {
     "iopub.execute_input": "2022-04-28T09:18:26.689757Z",
     "iopub.status.busy": "2022-04-28T09:18:26.689205Z",
     "iopub.status.idle": "2022-04-28T09:18:26.753800Z",
     "shell.execute_reply": "2022-04-28T09:18:26.751052Z"
    }
   },
   "outputs": [],
   "source": [
    "num_samples = 2000\n",
    "num_bootstrap = 20\n",
    "true_num_bootstrap = 50\n",
    "true_num_samples = 20000\n",
    "xi = 1e-3\n",
    "methods = ['random', 'stratified', 'owen', 'Sobol', 'kernel', 'active-0', 'active-2', 'active-5', 'active-100']"
   ]
  },
  {
   "cell_type": "code",
   "execution_count": null,
   "id": "d32d4913",
   "metadata": {},
   "outputs": [],
   "source": [
    "path = '../experiment_data/symmetry'"
   ]
  },
  {
   "cell_type": "code",
   "execution_count": null,
   "id": "efe03110",
   "metadata": {
    "execution": {
     "iopub.execute_input": "2022-04-28T09:18:26.760592Z",
     "iopub.status.busy": "2022-04-28T09:18:26.760159Z",
     "iopub.status.idle": "2022-04-28T09:21:15.354738Z",
     "shell.execute_reply": "2022-04-28T09:21:15.352072Z"
    }
   },
   "outputs": [],
   "source": [
    "\"\"\"\n",
    "Test out all sampling methods for data shapley\n",
    "\"\"\"\n",
    "\n",
    "res_data_shap = []\n",
    "\n",
    "for method in methods:\n",
    "    all_mcs = np.load(f\"{path}/small_all_mcs_data_shap_{method}_{dataset_name}_{model_name}_{num_datapoints}_{num_samples}_{num_bootstrap}.npy\", allow_pickle=True)\n",
    "    all_afs = np.load(f\"{path}/small_all_afs_data_shap_{method}_{dataset_name}_{model_name}_{num_datapoints}_{num_samples}_{num_bootstrap}.npy\", allow_pickle=True)\n",
    "    all_min_afs = np.load(f\"{path}/small_all_min_afs_data_shap_{method}_{dataset_name}_{model_name}_{num_datapoints}_{num_samples}_{num_bootstrap}.npy\", allow_pickle=True)\n",
    "    res_data_shap.append((method, all_mcs, all_afs, all_min_afs))\n"
   ]
  },
  {
   "cell_type": "code",
   "execution_count": null,
   "id": "72ada828",
   "metadata": {
    "execution": {
     "iopub.execute_input": "2022-04-28T09:21:15.368377Z",
     "iopub.status.busy": "2022-04-28T09:21:15.367172Z",
     "iopub.status.idle": "2022-04-28T09:21:15.839744Z",
     "shell.execute_reply": "2022-04-28T09:21:15.836470Z"
    }
   },
   "outputs": [],
   "source": [
    "for i, item in enumerate(res_data_shap):\n",
    "    method, all_mcs, all_afs, all_min_afs = item\n",
    "    all_min_afs = np.asarray(all_min_afs)\n",
    "    all_min_afs_mean = np.mean(all_min_afs, axis=0)\n",
    "    all_min_afs_sem = sem(all_min_afs,axis=0)\n",
    "    res_data_shap[i] = (method, all_mcs, all_afs, all_min_afs, all_min_afs_mean, all_min_afs_sem)"
   ]
  },
  {
   "cell_type": "code",
   "execution_count": null,
   "id": "2fec9c5c",
   "metadata": {
    "execution": {
     "iopub.execute_input": "2022-04-28T09:21:22.757601Z",
     "iopub.status.busy": "2022-04-28T09:21:22.756636Z",
     "iopub.status.idle": "2022-04-28T09:24:18.740627Z",
     "shell.execute_reply": "2022-04-28T09:24:18.714811Z"
    }
   },
   "outputs": [],
   "source": [
    "\"\"\"\n",
    "Test out all sampling methods for beta shapley\n",
    "\"\"\"\n",
    "res_beta_shap = []\n",
    "for method in methods:\n",
    "    all_mcs = np.load(f\"{path}/small_all_mcs_beta_shap_{method}_{dataset_name}_{model_name}_{num_datapoints}_{num_samples}_{num_bootstrap}.npy\", allow_pickle=True)\n",
    "    all_afs = np.load(f\"{path}/small_all_afs_beta_shap_{method}_{dataset_name}_{model_name}_{num_datapoints}_{num_samples}_{num_bootstrap}.npy\", allow_pickle=True)\n",
    "    all_min_afs = np.load(f\"{path}/small_all_min_afs_beta_shap_{method}_{dataset_name}_{model_name}_{num_datapoints}_{num_samples}_{num_bootstrap}.npy\", allow_pickle=True)\n",
    "    res_beta_shap.append((method, all_mcs, all_afs, all_min_afs))"
   ]
  },
  {
   "cell_type": "code",
   "execution_count": null,
   "id": "4d5465b3",
   "metadata": {
    "execution": {
     "iopub.execute_input": "2022-04-28T09:24:18.755505Z",
     "iopub.status.busy": "2022-04-28T09:24:18.747735Z",
     "iopub.status.idle": "2022-04-28T09:24:19.231625Z",
     "shell.execute_reply": "2022-04-28T09:24:19.230272Z"
    }
   },
   "outputs": [],
   "source": [
    "for i, item in enumerate(res_beta_shap):\n",
    "    method, all_mcs, all_afs, all_min_afs = item\n",
    "    all_min_afs = np.asarray(all_min_afs)\n",
    "    all_min_afs_mean = np.mean(all_min_afs, axis=0)\n",
    "    all_min_afs_std = np.std(all_min_afs, axis=0)\n",
    "    all_min_afs_sem = sem(all_min_afs, axis=0)\n",
    "    res_beta_shap[i] = (method, all_mcs, all_afs, all_min_afs, all_min_afs_mean, all_min_afs_sem)"
   ]
  },
  {
   "cell_type": "code",
   "execution_count": null,
   "id": "f0f22b47",
   "metadata": {},
   "outputs": [],
   "source": [
    "linestyles = ['solid', 'dashed', 'dotted', 'dashdot', (0, (1, 10)), (0, (1, 1)), (0, (5, 1)), (0, (5, 5)), (0, (3,1,1,1,))]"
   ]
  },
  {
   "cell_type": "code",
   "execution_count": null,
   "id": "6696f17d",
   "metadata": {},
   "outputs": [],
   "source": [
    "metric = 'data'\n",
    "res_shap = res_data_shap if metric == 'data' else res_beta_shap\n",
    "\n",
    "sys.path.append('../')\n",
    "from vol_utils.utils import set_up_plotting\n",
    "plt = set_up_plotting()\n",
    "plt.figure(figsize=(8,6))\n",
    "for i, item in enumerate(res_shap):\n",
    "    method, _, _, _, mean, se = item\n",
    "    if method == 'owen':\n",
    "        method = 'Owen' # capitalize\n",
    "    if method == 'random':\n",
    "        method = 'MC'\n",
    "    if method == 'kernel':\n",
    "        continue\n",
    "    if method.startswith('active'):\n",
    "        alpha = int(method.split('-')[-1])\n",
    "        method = rf'Ours ($\\alpha$ = {alpha})'\n",
    "    plt.plot(mean, label=method, linestyle=linestyles[i], c=f'C{i}')\n",
    "    plt.fill_between(np.arange(mean.shape[0]), mean-se, mean+se, alpha=0.3, color=f'C{i}')\n",
    "plt.xlabel(\"Number of Evaluations\")\n",
    "plt.ylabel(\"min FS\")\n",
    "plt.xticks(np.arange(0, res_shap[0][4].shape[0], 500))\n",
    "plt.legend(loc='upper left')\n",
    "plt.savefig(f\"../figs/symmetry_{metric}_shap_{dataset_name}_{model_name}_{num_datapoints}.pdf\", format='pdf', dpi=300, bbox_inches='tight')"
   ]
  },
  {
   "cell_type": "code",
   "execution_count": null,
   "id": "a57bca09",
   "metadata": {
    "execution": {
     "iopub.execute_input": "2022-04-28T09:24:26.559255Z",
     "iopub.status.busy": "2022-04-28T09:24:26.558707Z",
     "iopub.status.idle": "2022-04-28T09:24:27.426748Z",
     "shell.execute_reply": "2022-04-28T09:24:27.425785Z"
    }
   },
   "outputs": [],
   "source": [
    "\"\"\"\n",
    "Load mcs from random method on large samples (to approximate the true Shapley values)\n",
    "\"\"\"\n",
    "true_data_mcs = np.load(f\"{path}/small_all_mcs_data_shap_random_{dataset_name}_{model_name}_{num_datapoints}_{true_num_samples}_{true_num_bootstrap}.npy\", allow_pickle=True)\n",
    "true_beta_mcs =np.load(f\"{path}/small_all_mcs_beta_shap_random_{dataset_name}_{model_name}_{num_datapoints}_{true_num_samples}_{true_num_bootstrap}.npy\", allow_pickle=True) \n"
   ]
  },
  {
   "cell_type": "code",
   "execution_count": null,
   "id": "167bc1a4",
   "metadata": {
    "execution": {
     "iopub.execute_input": "2022-04-28T09:24:27.439642Z",
     "iopub.status.busy": "2022-04-28T09:24:27.439268Z",
     "iopub.status.idle": "2022-04-28T09:24:27.769842Z",
     "shell.execute_reply": "2022-04-28T09:24:27.767996Z"
    }
   },
   "outputs": [],
   "source": [
    "n = num_datapoints * 2 # duplicate each training example\n",
    "true_data_shaps = np.asarray([0.0 for _ in range(n)])\n",
    "for i in range(len(true_data_mcs)):\n",
    "    cur_shaps = np.asarray(get_shaps(true_data_mcs[i]))\n",
    "    true_data_shaps += cur_shaps / len(true_data_mcs)\n",
    "\n",
    "true_beta_shaps = np.asarray([0.0 for _ in range(n)])\n",
    "for i in range(len(true_beta_mcs)):\n",
    "    cur_shaps = np.asarray(get_shaps(true_beta_mcs[i]))\n",
    "    true_beta_shaps += cur_shaps / len(true_beta_mcs)\n",
    "# sanity check\n",
    "print(true_data_shaps.shape)"
   ]
  },
  {
   "cell_type": "code",
   "execution_count": null,
   "id": "4f7f6544",
   "metadata": {
    "execution": {
     "iopub.execute_input": "2022-04-28T09:24:28.155948Z",
     "iopub.status.busy": "2022-04-28T09:24:28.155661Z",
     "iopub.status.idle": "2022-04-28T09:24:28.205149Z",
     "shell.execute_reply": "2022-04-28T09:24:28.203245Z"
    }
   },
   "outputs": [],
   "source": [
    "# break into half\n",
    "n = num_datapoints\n",
    "true_shaps_data = (true_data_shaps[:n] + true_data_shaps[n:]) / 2\n",
    "true_shaps_beta = (true_beta_shaps[:n] + true_beta_shaps[n:]) / 2\n"
   ]
  },
  {
   "cell_type": "code",
   "execution_count": null,
   "id": "cdb2916e",
   "metadata": {
    "execution": {
     "iopub.execute_input": "2022-04-28T09:24:28.213774Z",
     "iopub.status.busy": "2022-04-28T09:24:28.212774Z",
     "iopub.status.idle": "2022-04-28T09:24:28.269180Z",
     "shell.execute_reply": "2022-04-28T09:24:28.268088Z"
    }
   },
   "outputs": [],
   "source": [
    "eps1_range = (0.02, 0.25)\n",
    "multiplier = 50"
   ]
  },
  {
   "cell_type": "code",
   "execution_count": null,
   "id": "78804ad3",
   "metadata": {
    "execution": {
     "iopub.execute_input": "2022-04-28T09:24:28.273929Z",
     "iopub.status.busy": "2022-04-28T09:24:28.273391Z",
     "iopub.status.idle": "2022-04-28T09:24:30.826244Z",
     "shell.execute_reply": "2022-04-28T09:24:30.825381Z"
    }
   },
   "outputs": [],
   "source": [
    "all_counts = [[] for _ in range(len(methods))]\n",
    "mean_counts = []\n",
    "sem_counts = []\n",
    "\n",
    "for ratio in range(int(eps1_range[0] * multiplier), int(eps1_range[1]*multiplier)):\n",
    "    eps1 = ratio / multiplier\n",
    "    eps2 = eps1 * xi\n",
    "\n",
    "    def get_over_threshold_count(first, second, i):\n",
    "        means = true_shaps_data / sum(true_shaps_data) # normalize shaps\n",
    "        diff = abs(first - second)\n",
    "        thres = means * eps1 + eps2\n",
    "        return sum(diff > thres)\n",
    "\n",
    "    counts = [[] for _ in range(len(methods))]\n",
    "    for i, item in enumerate(res_data_shap):\n",
    "        method, all_mcs, _, _, _, _ = item\n",
    "        for j in range(repeat_num):\n",
    "            shaps_active = np.asarray(get_shaps(all_mcs[j]))\n",
    "            shaps_active /= sum(shaps_active) # normalize shaps\n",
    "            first = shaps_active[:n]\n",
    "            second = shaps_active[n:]\n",
    "            count = get_over_threshold_count(first, second, i)\n",
    "            counts[i].append(count)\n",
    "    for i, count in enumerate(counts):\n",
    "        all_counts[i].append(count)\n",
    "\n",
    "for i, count in enumerate(all_counts):\n",
    "    all_counts[i] = np.asarray(count).T\n",
    "    mean_counts.append(all_counts[i].mean(axis=0))\n",
    "    sem_counts.append(sem(all_counts[i], axis=0))"
   ]
  },
  {
   "cell_type": "code",
   "execution_count": null,
   "id": "42af59b8",
   "metadata": {
    "execution": {
     "iopub.execute_input": "2022-04-28T09:24:30.833102Z",
     "iopub.status.busy": "2022-04-28T09:24:30.832449Z",
     "iopub.status.idle": "2022-04-28T09:24:33.161743Z",
     "shell.execute_reply": "2022-04-28T09:24:33.160114Z"
    }
   },
   "outputs": [],
   "source": [
    "all_counts_beta_shap = [[] for _ in range(len(methods))]\n",
    "mean_counts_beta_shap = []\n",
    "sem_counts_beta_shap = []\n",
    "\n",
    "for ratio in range(int(eps1_range[0] * multiplier), int(eps1_range[1] * multiplier)):\n",
    "    eps1 = ratio / multiplier\n",
    "    eps2 = eps1 * xi\n",
    "\n",
    "    def get_over_threshold_count(first, second, i):\n",
    "        means = true_shaps_beta / sum(true_shaps_beta) # normalize shaps\n",
    "        diff = abs(first - second)\n",
    "        thres = means * eps1 + eps2\n",
    "        return sum(diff > thres)\n",
    "\n",
    "    counts = [[] for _ in range(len(methods))]\n",
    "    for i, item in enumerate(res_data_shap):\n",
    "        method, all_mcs, _, _, _, _ = item\n",
    "        for j in range(repeat_num):\n",
    "            shaps_active = np.asarray(get_shaps(all_mcs[j]))\n",
    "            shaps_active /= sum(shaps_active) # normalize shaps\n",
    "            first = shaps_active[:n]\n",
    "            second = shaps_active[n:]\n",
    "            count = get_over_threshold_count(first, second, i)\n",
    "            counts[i].append(count)\n",
    "    for i, count in enumerate(counts):\n",
    "        all_counts_beta_shap[i].append(count)\n",
    "\n",
    "for i, count in enumerate(all_counts_beta_shap):\n",
    "    all_counts_beta_shap[i] = np.asarray(count).T\n",
    "    mean_counts_beta_shap.append(all_counts_beta_shap[i].mean(axis=0))\n",
    "    sem_counts_beta_shap.append(sem(all_counts_beta_shap[i], axis=0))"
   ]
  },
  {
   "cell_type": "code",
   "execution_count": null,
   "id": "fcd7b70c",
   "metadata": {},
   "outputs": [],
   "source": [
    "plt.figure(figsize=(8,6))\n",
    "n = num_datapoints\n",
    "x = np.asarray(list(range(int(eps1_range[0]*multiplier), int(eps1_range[1]*multiplier), 2)))\n",
    "x_ticks = x / multiplier\n",
    "\n",
    "plt.xticks(x, x_ticks)\n",
    "\n",
    "for i in range(len(methods)):\n",
    "    method = methods[i]\n",
    "    if method == 'owen':\n",
    "        method = 'Owen' # capitalize\n",
    "    if method == 'random':\n",
    "        method = 'MC'\n",
    "    if method == 'kernel':\n",
    "        continue\n",
    "    if method.startswith('active'):\n",
    "        alpha = int(method.split('-')[-1])\n",
    "        method = rf'Ours ($\\alpha$ = {alpha})'\n",
    "    plt.plot(mean_counts[i] / n, label = method, linestyle=linestyles[i], c=f'C{i}')\n",
    "    plt.fill_between(np.arange(len(mean_counts[i])), (mean_counts[i] - sem_counts[i]) / n,\n",
    "        (mean_counts[i] + sem_counts[i]) / n, alpha=0.3, color=f'C{i}')\n",
    "plt.xlabel(r'$\\epsilon_1$')\n",
    "plt.ylabel(r\"avg. prop. $|\\varphi_i - \\varphi_j| > t$\")\n",
    "plt.legend(loc='upper left')\n",
    "plt.savefig(f\"../figs/threshold_ratios_data_shap_{dataset_name}_{model_name}_{num_datapoints}.pdf\", format='pdf', dpi=300, bbox_inches='tight')"
   ]
  },
  {
   "cell_type": "code",
   "execution_count": null,
   "id": "a164a13d",
   "metadata": {},
   "outputs": [],
   "source": [
    "plt.figure(figsize=(8,6))\n",
    "n = num_datapoints\n",
    "x = np.asarray(list(range(int(eps1_range[0]*multiplier), int(eps1_range[1]*multiplier), 2)))\n",
    "x_ticks = x / multiplier\n",
    "\n",
    "plt.xticks(x, x_ticks)\n",
    "\n",
    "for i in range(len(methods)):\n",
    "    method = methods[i]\n",
    "    if method == 'owen':\n",
    "        method = 'Owen' # capitalize\n",
    "    if method == 'random':\n",
    "        method = 'MC'\n",
    "    if method == 'kernel':\n",
    "        continue\n",
    "    if method.startswith('active'):\n",
    "        alpha = int(method.split('-')[-1])\n",
    "        method = rf'Ours ($\\alpha$ = {alpha})'\n",
    "    plt.plot(mean_counts_beta_shap[i] / n, label = method, linestyle=linestyles[i], c=f'C{i}')\n",
    "    plt.fill_between(np.arange(len(mean_counts_beta_shap[i])), (mean_counts_beta_shap[i] - sem_counts_beta_shap[i]) / n,\n",
    "        (mean_counts_beta_shap[i] + sem_counts_beta_shap[i]) / n, alpha=0.3, color=f'C{i}')\n",
    "plt.xlabel(r'$\\epsilon_1$')\n",
    "plt.ylabel(r\"avg. prop. $|\\varphi_i - \\varphi_j| > t$\")\n",
    "plt.legend()\n",
    "plt.savefig(f\"../figs/threshold_ratios_beta_shap_{dataset_name}_{model_name}_{num_datapoints}.pdf\", format='pdf', dpi=300, bbox_inches='tight')"
   ]
  },
  {
   "cell_type": "code",
   "execution_count": null,
   "id": "d55b5858",
   "metadata": {
    "execution": {
     "iopub.execute_input": "2022-04-28T09:24:36.469443Z",
     "iopub.status.busy": "2022-04-28T09:24:36.468888Z",
     "iopub.status.idle": "2022-04-28T09:24:36.752373Z",
     "shell.execute_reply": "2022-04-28T09:24:36.750646Z"
    }
   },
   "outputs": [],
   "source": [
    "\"\"\"\n",
    "Consider sum of ratio\n",
    "\"\"\"\n",
    "def get_sum_ratio(first, second):\n",
    "    sum_ratio = 0\n",
    "    for i in range(len(first)):\n",
    "        sum_ratio += max((abs(first[i])+xi) / (abs(second[i])+xi), \n",
    "                    (abs(second[i])+xi) / (abs(first[i])+xi))\n",
    "    return sum_ratio\n",
    "\n",
    "sum_ratios = [[] for _ in range(len(methods))]\n",
    "\n",
    "for i, item in enumerate(res_data_shap):\n",
    "    method, all_mcs, _, _, _, _ = item\n",
    "    n = num_datapoints\n",
    "    for j in range(repeat_num):\n",
    "        shaps = np.asarray(get_shaps(all_mcs[j]))\n",
    "        shaps /= sum(shaps) # normalize shapley value\n",
    "        first = shaps[:n]\n",
    "        second = shaps[n:]\n",
    "        sum_ratios[i].append(get_sum_ratio(first, second))\n",
    "\n",
    "sum_ratios_beta_shap = [[] for _ in range(len(methods))]\n",
    "\n",
    "for i, item in enumerate(res_beta_shap):\n",
    "    method, all_mcs, _, _, _, _ = item\n",
    "    n = num_datapoints\n",
    "    for j in range(repeat_num):\n",
    "        shaps = np.asarray(get_shaps(all_mcs[j]))\n",
    "        shaps /= sum(shaps) # normalize shapley value\n",
    "        first = shaps[:n]\n",
    "        second = shaps[n:]\n",
    "        sum_ratios_beta_shap[i].append(get_sum_ratio(first, second))"
   ]
  },
  {
   "cell_type": "code",
   "execution_count": null,
   "id": "5da430f8",
   "metadata": {},
   "outputs": [],
   "source": [
    "sum_ratios = np.asarray(sum_ratios)\n",
    "kernel_index = methods.index('kernel')\n",
    "deleted_sum_ratios = np.delete(sum_ratios, kernel_index, axis=0)\n",
    "plt.figure(figsize=(8,6))\n",
    "sns.set_style(style='white')\n",
    "sns.boxplot(data=np.log(deleted_sum_ratios).T, showfliers=False,palette=['C0', 'C1', 'C2', 'C3', 'C5', 'C6', 'C7', 'C8'])\n",
    "xlabels=['MC', 'strat.', 'Owen', 'Sobol', r'$\\alpha=0$', r'$\\alpha=2$', r'$\\alpha=5$', r'$\\alpha=100$']\n",
    "plt.xticks([0,1,2,3,4,5,6,7], xlabels, rotation=20)\n",
    "plt.ylabel(\"Log Sum Ratio\")\n",
    "plt.savefig(f\"../figs/log_sum_ratio_{dataset_name}_{model_name}_{num_datapoints}_boxplot.pdf\", format='pdf', dpi=300, bbox_inches='tight')"
   ]
  },
  {
   "cell_type": "code",
   "execution_count": null,
   "id": "0618eb9c",
   "metadata": {},
   "outputs": [],
   "source": []
  },
  {
   "cell_type": "code",
   "execution_count": null,
   "id": "00252d9d",
   "metadata": {},
   "outputs": [],
   "source": []
  }
 ],
 "metadata": {
  "kernelspec": {
   "display_name": "Python 3",
   "language": "python",
   "name": "python3"
  },
  "language_info": {
   "codemirror_mode": {
    "name": "ipython",
    "version": 3
   },
   "file_extension": ".py",
   "mimetype": "text/x-python",
   "name": "python",
   "nbconvert_exporter": "python",
   "pygments_lexer": "ipython3",
   "version": "3.9.6"
  },
  "vscode": {
   "interpreter": {
    "hash": "31f2aee4e71d21fbe5cf8b01ff0e069b9275f58929596ceb00d14d90e3e16cd6"
   }
  }
 },
 "nbformat": 4,
 "nbformat_minor": 5
}
