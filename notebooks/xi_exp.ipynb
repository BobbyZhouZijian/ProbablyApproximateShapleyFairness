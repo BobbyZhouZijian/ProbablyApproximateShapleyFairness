{
 "cells": [
  {
   "cell_type": "code",
   "execution_count": null,
   "metadata": {},
   "outputs": [],
   "source": [
    "import numpy as np\n",
    "import sys\n",
    "sys.path.append('../tools')\n",
    "from utils import get_shaps\n",
    "from scipy.stats import spearmanr, pearsonr, sem\n",
    "from scipy import spatial\n",
    "\n",
    "%load_ext autoreload\n",
    "%autoreload 2"
   ]
  },
  {
   "cell_type": "code",
   "execution_count": null,
   "metadata": {},
   "outputs": [],
   "source": [
    "task = 'classification'\n",
    "dataset_name = 'breast_cancer'\n",
    "num_datapoints = 50"
   ]
  },
  {
   "cell_type": "code",
   "execution_count": null,
   "metadata": {},
   "outputs": [],
   "source": [
    "model_name = 'logistic'\n",
    "metric = 'accuracy'\n",
    "seed = 2022\n",
    "repeat_num = 20"
   ]
  },
  {
   "cell_type": "code",
   "execution_count": null,
   "metadata": {},
   "outputs": [],
   "source": [
    "num_samples = 50\n",
    "num_samples_true = 500\n",
    "xis = [1e1, 1e0, 1e-1, 1e-2, 1e-3, 1e-4, 1e-5, 1e-6]"
   ]
  },
  {
   "cell_type": "code",
   "execution_count": null,
   "metadata": {},
   "outputs": [],
   "source": [
    "path = '../experiment_data/xi'\n",
    "method = 'random'\n",
    "\n",
    "true_mcs_list = np.load(f\"{path}/xi_est_{dataset_name}_{model_name}_{num_samples_true}_{1e-3}.npy\", allow_pickle=True)\n",
    "est_mcs_list_xi = []\n",
    "for xi in xis:\n",
    "    est_mcs_list_xi.append((xi, np.load(f\"{path}/ri_mape_est_{dataset_name}_{model_name}_{num_samples}_{xi}.npy\", allow_pickle=True)))"
   ]
  },
  {
   "cell_type": "code",
   "execution_count": null,
   "metadata": {},
   "outputs": [],
   "source": [
    "true_shaps = np.zeros(num_datapoints)\n",
    "for true_mcs in true_mcs_list:\n",
    "    shaps = np.asarray(get_shaps(true_mcs))\n",
    "    true_shaps += shaps / repeat_num\n",
    "print(true_shaps)"
   ]
  },
  {
   "cell_type": "code",
   "execution_count": null,
   "metadata": {},
   "outputs": [],
   "source": [
    "for xi, est_mcs_list in est_mcs_list_xi:\n",
    "    spear_coeffs = []\n",
    "    pearson_coeffs = []\n",
    "    cos_sim = []\n",
    "\n",
    "    for est_mcs in est_mcs_list:\n",
    "        est_shaps = get_shaps(est_mcs)\n",
    "        # absolute percentage error (not mean)\n",
    "        mape = abs((abs(est_shaps - true_shaps) + 1e-5) / (true_shaps + 1e-5))\n",
    "        mape = mape ** 0.5\n",
    "        mse = (est_shaps - true_shaps)**2\n",
    "        r = []\n",
    "        for i in range(len(true_shaps)):\n",
    "            mc_i = np.asarray([item[0] for item in est_mcs[i]])\n",
    "            s2 = np.var(mc_i, ddof=1) + 1e-5\n",
    "            mu = true_shaps[i]\n",
    "            r.append((abs(mu)+xi)**2/s2)\n",
    "        \n",
    "        metric = mape\n",
    "        r = np.asarray(r)\n",
    "\n",
    "        spear_coeffs.append(spearmanr(r, 1/metric).correlation)\n",
    "        pearson_coeffs.append(pearsonr(r, 1/metric)[0])\n",
    "        cos_sim.append(1 - spatial.distance.cosine(r, 1/metric))\n",
    "\n",
    "    spear_coeffs = np.asarray(spear_coeffs)\n",
    "    print(\"xi: %.10f; Spearman %.4f \\pm %.4f\" % (xi, spear_coeffs.mean(), sem(spear_coeffs)), end=' ')\n",
    "\n",
    "    pearson_coeffs = np.asarray(pearson_coeffs)\n",
    "    print(\"Pearson %.4f \\pm %.4f\" % (pearson_coeffs.mean(), sem(pearson_coeffs)), end=' ')\n",
    "\n",
    "    cos_sim = np.asarray(cos_sim)\n",
    "    print(\"Cosine %.4f \\pm %.4f\" % (cos_sim.mean(), sem(cos_sim)))"
   ]
  },
  {
   "cell_type": "code",
   "execution_count": null,
   "metadata": {},
   "outputs": [],
   "source": []
  },
  {
   "cell_type": "code",
   "execution_count": null,
   "metadata": {},
   "outputs": [],
   "source": []
  }
 ],
 "metadata": {
  "kernelspec": {
   "display_name": "Python 3",
   "language": "python",
   "name": "python3"
  },
  "language_info": {
   "codemirror_mode": {
    "name": "ipython",
    "version": 3
   },
   "file_extension": ".py",
   "mimetype": "text/x-python",
   "name": "python",
   "nbconvert_exporter": "python",
   "pygments_lexer": "ipython3",
   "version": "3.9.6"
  },
  "vscode": {
   "interpreter": {
    "hash": "31f2aee4e71d21fbe5cf8b01ff0e069b9275f58929596ceb00d14d90e3e16cd6"
   }
  }
 },
 "nbformat": 4,
 "nbformat_minor": 2
}
